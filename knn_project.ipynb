{
  "nbformat": 4,
  "nbformat_minor": 0,
  "metadata": {
    "colab": {
      "provenance": [],
      "authorship_tag": "ABX9TyMBhQPiiAROtlu+9jL6wZvq",
      "include_colab_link": true
    },
    "kernelspec": {
      "name": "python3",
      "display_name": "Python 3"
    },
    "language_info": {
      "name": "python"
    }
  },
  "cells": [
    {
      "cell_type": "markdown",
      "metadata": {
        "id": "view-in-github",
        "colab_type": "text"
      },
      "source": [
        "<a href=\"https://colab.research.google.com/github/19rehan/ML-Projects/blob/main/knn_project.ipynb\" target=\"_parent\"><img src=\"https://colab.research.google.com/assets/colab-badge.svg\" alt=\"Open In Colab\"/></a>"
      ]
    },
    {
      "cell_type": "markdown",
      "source": [
        "#K-Nearest Neighbors Classifier\n",
        "\n",
        "\n",
        "#Objectives\n",
        "\n",
        "After completing this Project you will be able to:\n",
        "\n",
        "Use K-Nearest neighbors to classify data\n",
        "Apply KNN classifier on a real world data set\n",
        "In this lab you will load a customer data set, fit the data, and use K-Nearest Neighbors to predict a data point"
      ],
      "metadata": {
        "id": "9VfM8KQV-WbY"
      }
    },
    {
      "cell_type": "code",
      "execution_count": null,
      "metadata": {
        "id": "5xGCab6R5vSW"
      },
      "outputs": [],
      "source": []
    }
  ]
}